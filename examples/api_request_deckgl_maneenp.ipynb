{
 "cells": [
  {
   "cell_type": "markdown",
   "metadata": {},
   "source": [
    "# Package loading and basic configurations"
   ]
  },
  {
   "cell_type": "code",
   "execution_count": 1,
   "metadata": {
    "scrolled": true
   },
   "outputs": [],
   "source": [
    "%load_ext autoreload\n",
    "%autoreload 2\n",
    "\n",
    "# load dependencies'\n",
    "import pandas as pd\n",
    "import geopandas as gpd\n",
    "\n",
    "from envirocar import TrackAPI, DownloadClient, BboxSelector, ECConfig\n",
    "\n",
    "# create an initial but optional config and an api client\n",
    "config = ECConfig()\n",
    "track_api = TrackAPI(api_client=DownloadClient(config=config))"
   ]
  },
  {
   "cell_type": "markdown",
   "metadata": {},
   "source": [
    "# Querying enviroCar Tracks"
   ]
  },
  {
   "cell_type": "markdown",
   "metadata": {},
   "source": [
    "The following cell queries tracks from the enviroCar API. It defines a bbox for the area of Münster (Germany) and requests 50 tracks. The result is a GeoDataFrame, which is a geo-extended Pandas dataframe from the GeoPandas library. It contains all information of the track in a flat dataframe format including a specific geometry column. "
   ]
  },
  {
   "cell_type": "code",
   "execution_count": 2,
   "metadata": {},
   "outputs": [
    {
     "data": {
      "text/html": [
       "<div>\n",
       "<style scoped>\n",
       "    .dataframe tbody tr th:only-of-type {\n",
       "        vertical-align: middle;\n",
       "    }\n",
       "\n",
       "    .dataframe tbody tr th {\n",
       "        vertical-align: top;\n",
       "    }\n",
       "\n",
       "    .dataframe thead th {\n",
       "        text-align: right;\n",
       "    }\n",
       "</style>\n",
       "<table border=\"1\" class=\"dataframe\">\n",
       "  <thead>\n",
       "    <tr style=\"text-align: right;\">\n",
       "      <th></th>\n",
       "      <th>id</th>\n",
       "      <th>time</th>\n",
       "      <th>geometry</th>\n",
       "      <th>GPS Bearing.value</th>\n",
       "      <th>GPS Bearing.unit</th>\n",
       "      <th>Intake Temperature.value</th>\n",
       "      <th>Intake Temperature.unit</th>\n",
       "      <th>MAF.value</th>\n",
       "      <th>MAF.unit</th>\n",
       "      <th>Intake Pressure.value</th>\n",
       "      <th>...</th>\n",
       "      <th>Consumption.value</th>\n",
       "      <th>Consumption.unit</th>\n",
       "      <th>Throttle Position.value</th>\n",
       "      <th>Throttle Position.unit</th>\n",
       "      <th>track.appVersion</th>\n",
       "      <th>track.touVersion</th>\n",
       "      <th>O2 Lambda Voltage.value</th>\n",
       "      <th>O2 Lambda Voltage.unit</th>\n",
       "      <th>O2 Lambda Voltage ER.value</th>\n",
       "      <th>O2 Lambda Voltage ER.unit</th>\n",
       "    </tr>\n",
       "  </thead>\n",
       "  <tbody>\n",
       "    <tr>\n",
       "      <th>0</th>\n",
       "      <td>5b46294f44ea850910a1c1e0</td>\n",
       "      <td>2018-07-11T06:07:23</td>\n",
       "      <td>POINT (6.41455 51.20328)</td>\n",
       "      <td>117.943870</td>\n",
       "      <td>deg</td>\n",
       "      <td>28.000001</td>\n",
       "      <td>c</td>\n",
       "      <td>35.669282</td>\n",
       "      <td>l/s</td>\n",
       "      <td>120.000001</td>\n",
       "      <td>...</td>\n",
       "      <td>NaN</td>\n",
       "      <td>NaN</td>\n",
       "      <td>NaN</td>\n",
       "      <td>NaN</td>\n",
       "      <td>NaN</td>\n",
       "      <td>NaN</td>\n",
       "      <td>NaN</td>\n",
       "      <td>NaN</td>\n",
       "      <td>NaN</td>\n",
       "      <td>NaN</td>\n",
       "    </tr>\n",
       "    <tr>\n",
       "      <th>1</th>\n",
       "      <td>5b46294f44ea850910a1c1e2</td>\n",
       "      <td>2018-07-11T06:07:28</td>\n",
       "      <td>POINT (6.41512 51.20308)</td>\n",
       "      <td>115.088323</td>\n",
       "      <td>deg</td>\n",
       "      <td>28.000000</td>\n",
       "      <td>c</td>\n",
       "      <td>31.446508</td>\n",
       "      <td>l/s</td>\n",
       "      <td>113.073678</td>\n",
       "      <td>...</td>\n",
       "      <td>NaN</td>\n",
       "      <td>NaN</td>\n",
       "      <td>NaN</td>\n",
       "      <td>NaN</td>\n",
       "      <td>NaN</td>\n",
       "      <td>NaN</td>\n",
       "      <td>NaN</td>\n",
       "      <td>NaN</td>\n",
       "      <td>NaN</td>\n",
       "      <td>NaN</td>\n",
       "    </tr>\n",
       "    <tr>\n",
       "      <th>2</th>\n",
       "      <td>5b46294f44ea850910a1c1e3</td>\n",
       "      <td>2018-07-11T06:07:33</td>\n",
       "      <td>POINT (6.41564 51.20299)</td>\n",
       "      <td>106.541059</td>\n",
       "      <td>deg</td>\n",
       "      <td>28.000000</td>\n",
       "      <td>c</td>\n",
       "      <td>28.072108</td>\n",
       "      <td>l/s</td>\n",
       "      <td>112.068772</td>\n",
       "      <td>...</td>\n",
       "      <td>NaN</td>\n",
       "      <td>NaN</td>\n",
       "      <td>NaN</td>\n",
       "      <td>NaN</td>\n",
       "      <td>NaN</td>\n",
       "      <td>NaN</td>\n",
       "      <td>NaN</td>\n",
       "      <td>NaN</td>\n",
       "      <td>NaN</td>\n",
       "      <td>NaN</td>\n",
       "    </tr>\n",
       "    <tr>\n",
       "      <th>3</th>\n",
       "      <td>5b46294f44ea850910a1c1e4</td>\n",
       "      <td>2018-07-11T06:07:38</td>\n",
       "      <td>POINT (6.41615 51.20291)</td>\n",
       "      <td>99.885196</td>\n",
       "      <td>deg</td>\n",
       "      <td>28.000000</td>\n",
       "      <td>c</td>\n",
       "      <td>33.429661</td>\n",
       "      <td>l/s</td>\n",
       "      <td>129.759303</td>\n",
       "      <td>...</td>\n",
       "      <td>NaN</td>\n",
       "      <td>NaN</td>\n",
       "      <td>NaN</td>\n",
       "      <td>NaN</td>\n",
       "      <td>NaN</td>\n",
       "      <td>NaN</td>\n",
       "      <td>NaN</td>\n",
       "      <td>NaN</td>\n",
       "      <td>NaN</td>\n",
       "      <td>NaN</td>\n",
       "    </tr>\n",
       "    <tr>\n",
       "      <th>4</th>\n",
       "      <td>5b46294f44ea850910a1c1e5</td>\n",
       "      <td>2018-07-11T06:07:43</td>\n",
       "      <td>POINT (6.41671 51.20282)</td>\n",
       "      <td>104.435649</td>\n",
       "      <td>deg</td>\n",
       "      <td>27.999999</td>\n",
       "      <td>c</td>\n",
       "      <td>25.774274</td>\n",
       "      <td>l/s</td>\n",
       "      <td>106.020177</td>\n",
       "      <td>...</td>\n",
       "      <td>NaN</td>\n",
       "      <td>NaN</td>\n",
       "      <td>NaN</td>\n",
       "      <td>NaN</td>\n",
       "      <td>NaN</td>\n",
       "      <td>NaN</td>\n",
       "      <td>NaN</td>\n",
       "      <td>NaN</td>\n",
       "      <td>NaN</td>\n",
       "      <td>NaN</td>\n",
       "    </tr>\n",
       "    <tr>\n",
       "      <th>...</th>\n",
       "      <td>...</td>\n",
       "      <td>...</td>\n",
       "      <td>...</td>\n",
       "      <td>...</td>\n",
       "      <td>...</td>\n",
       "      <td>...</td>\n",
       "      <td>...</td>\n",
       "      <td>...</td>\n",
       "      <td>...</td>\n",
       "      <td>...</td>\n",
       "      <td>...</td>\n",
       "      <td>...</td>\n",
       "      <td>...</td>\n",
       "      <td>...</td>\n",
       "      <td>...</td>\n",
       "      <td>...</td>\n",
       "      <td>...</td>\n",
       "      <td>...</td>\n",
       "      <td>...</td>\n",
       "      <td>...</td>\n",
       "      <td>...</td>\n",
       "    </tr>\n",
       "    <tr>\n",
       "      <th>139</th>\n",
       "      <td>5b435e1944ea8509109ec020</td>\n",
       "      <td>2018-07-05T14:54:40</td>\n",
       "      <td>POINT (6.37907 51.16716)</td>\n",
       "      <td>306.505961</td>\n",
       "      <td>deg</td>\n",
       "      <td>51.000000</td>\n",
       "      <td>c</td>\n",
       "      <td>NaN</td>\n",
       "      <td>NaN</td>\n",
       "      <td>47.754251</td>\n",
       "      <td>...</td>\n",
       "      <td>3.018230</td>\n",
       "      <td>l/h</td>\n",
       "      <td>16.373109</td>\n",
       "      <td>%</td>\n",
       "      <td>NaN</td>\n",
       "      <td>NaN</td>\n",
       "      <td>NaN</td>\n",
       "      <td>NaN</td>\n",
       "      <td>NaN</td>\n",
       "      <td>NaN</td>\n",
       "    </tr>\n",
       "    <tr>\n",
       "      <th>140</th>\n",
       "      <td>5b435e1944ea8509109ec021</td>\n",
       "      <td>2018-07-05T14:54:45</td>\n",
       "      <td>POINT (6.37828 51.16748)</td>\n",
       "      <td>301.887519</td>\n",
       "      <td>deg</td>\n",
       "      <td>50.289967</td>\n",
       "      <td>c</td>\n",
       "      <td>NaN</td>\n",
       "      <td>NaN</td>\n",
       "      <td>64.000001</td>\n",
       "      <td>...</td>\n",
       "      <td>4.207688</td>\n",
       "      <td>l/h</td>\n",
       "      <td>19.000000</td>\n",
       "      <td>%</td>\n",
       "      <td>NaN</td>\n",
       "      <td>NaN</td>\n",
       "      <td>NaN</td>\n",
       "      <td>NaN</td>\n",
       "      <td>NaN</td>\n",
       "      <td>NaN</td>\n",
       "    </tr>\n",
       "    <tr>\n",
       "      <th>141</th>\n",
       "      <td>5b435e1944ea8509109ec022</td>\n",
       "      <td>2018-07-05T14:54:50</td>\n",
       "      <td>POINT (6.37755 51.16790)</td>\n",
       "      <td>320.367792</td>\n",
       "      <td>deg</td>\n",
       "      <td>50.000000</td>\n",
       "      <td>c</td>\n",
       "      <td>NaN</td>\n",
       "      <td>NaN</td>\n",
       "      <td>58.226904</td>\n",
       "      <td>...</td>\n",
       "      <td>3.994924</td>\n",
       "      <td>l/h</td>\n",
       "      <td>17.712219</td>\n",
       "      <td>%</td>\n",
       "      <td>NaN</td>\n",
       "      <td>NaN</td>\n",
       "      <td>NaN</td>\n",
       "      <td>NaN</td>\n",
       "      <td>NaN</td>\n",
       "      <td>NaN</td>\n",
       "    </tr>\n",
       "    <tr>\n",
       "      <th>142</th>\n",
       "      <td>5b435e1944ea8509109ec023</td>\n",
       "      <td>2018-07-05T14:54:55</td>\n",
       "      <td>POINT (6.37694 51.16839)</td>\n",
       "      <td>324.743345</td>\n",
       "      <td>deg</td>\n",
       "      <td>50.000001</td>\n",
       "      <td>c</td>\n",
       "      <td>NaN</td>\n",
       "      <td>NaN</td>\n",
       "      <td>25.384494</td>\n",
       "      <td>...</td>\n",
       "      <td>1.648222</td>\n",
       "      <td>l/h</td>\n",
       "      <td>14.000000</td>\n",
       "      <td>%</td>\n",
       "      <td>NaN</td>\n",
       "      <td>NaN</td>\n",
       "      <td>NaN</td>\n",
       "      <td>NaN</td>\n",
       "      <td>NaN</td>\n",
       "      <td>NaN</td>\n",
       "    </tr>\n",
       "    <tr>\n",
       "      <th>143</th>\n",
       "      <td>5b435e1944ea8509109ec024</td>\n",
       "      <td>2018-07-05T14:55:00</td>\n",
       "      <td>POINT (6.37646 51.16890)</td>\n",
       "      <td>330.838042</td>\n",
       "      <td>deg</td>\n",
       "      <td>49.999999</td>\n",
       "      <td>c</td>\n",
       "      <td>NaN</td>\n",
       "      <td>NaN</td>\n",
       "      <td>64.546853</td>\n",
       "      <td>...</td>\n",
       "      <td>4.344023</td>\n",
       "      <td>l/h</td>\n",
       "      <td>18.472844</td>\n",
       "      <td>%</td>\n",
       "      <td>NaN</td>\n",
       "      <td>NaN</td>\n",
       "      <td>NaN</td>\n",
       "      <td>NaN</td>\n",
       "      <td>NaN</td>\n",
       "      <td>NaN</td>\n",
       "    </tr>\n",
       "  </tbody>\n",
       "</table>\n",
       "<p>22006 rows × 54 columns</p>\n",
       "</div>"
      ],
      "text/plain": [
       "                           id                 time                  geometry  \\\n",
       "0    5b46294f44ea850910a1c1e0  2018-07-11T06:07:23  POINT (6.41455 51.20328)   \n",
       "1    5b46294f44ea850910a1c1e2  2018-07-11T06:07:28  POINT (6.41512 51.20308)   \n",
       "2    5b46294f44ea850910a1c1e3  2018-07-11T06:07:33  POINT (6.41564 51.20299)   \n",
       "3    5b46294f44ea850910a1c1e4  2018-07-11T06:07:38  POINT (6.41615 51.20291)   \n",
       "4    5b46294f44ea850910a1c1e5  2018-07-11T06:07:43  POINT (6.41671 51.20282)   \n",
       "..                        ...                  ...                       ...   \n",
       "139  5b435e1944ea8509109ec020  2018-07-05T14:54:40  POINT (6.37907 51.16716)   \n",
       "140  5b435e1944ea8509109ec021  2018-07-05T14:54:45  POINT (6.37828 51.16748)   \n",
       "141  5b435e1944ea8509109ec022  2018-07-05T14:54:50  POINT (6.37755 51.16790)   \n",
       "142  5b435e1944ea8509109ec023  2018-07-05T14:54:55  POINT (6.37694 51.16839)   \n",
       "143  5b435e1944ea8509109ec024  2018-07-05T14:55:00  POINT (6.37646 51.16890)   \n",
       "\n",
       "     GPS Bearing.value GPS Bearing.unit  Intake Temperature.value  \\\n",
       "0           117.943870              deg                 28.000001   \n",
       "1           115.088323              deg                 28.000000   \n",
       "2           106.541059              deg                 28.000000   \n",
       "3            99.885196              deg                 28.000000   \n",
       "4           104.435649              deg                 27.999999   \n",
       "..                 ...              ...                       ...   \n",
       "139         306.505961              deg                 51.000000   \n",
       "140         301.887519              deg                 50.289967   \n",
       "141         320.367792              deg                 50.000000   \n",
       "142         324.743345              deg                 50.000001   \n",
       "143         330.838042              deg                 49.999999   \n",
       "\n",
       "    Intake Temperature.unit  MAF.value MAF.unit  Intake Pressure.value  ...  \\\n",
       "0                         c  35.669282      l/s             120.000001  ...   \n",
       "1                         c  31.446508      l/s             113.073678  ...   \n",
       "2                         c  28.072108      l/s             112.068772  ...   \n",
       "3                         c  33.429661      l/s             129.759303  ...   \n",
       "4                         c  25.774274      l/s             106.020177  ...   \n",
       "..                      ...        ...      ...                    ...  ...   \n",
       "139                       c        NaN      NaN              47.754251  ...   \n",
       "140                       c        NaN      NaN              64.000001  ...   \n",
       "141                       c        NaN      NaN              58.226904  ...   \n",
       "142                       c        NaN      NaN              25.384494  ...   \n",
       "143                       c        NaN      NaN              64.546853  ...   \n",
       "\n",
       "    Consumption.value  Consumption.unit Throttle Position.value  \\\n",
       "0                 NaN               NaN                     NaN   \n",
       "1                 NaN               NaN                     NaN   \n",
       "2                 NaN               NaN                     NaN   \n",
       "3                 NaN               NaN                     NaN   \n",
       "4                 NaN               NaN                     NaN   \n",
       "..                ...               ...                     ...   \n",
       "139          3.018230               l/h               16.373109   \n",
       "140          4.207688               l/h               19.000000   \n",
       "141          3.994924               l/h               17.712219   \n",
       "142          1.648222               l/h               14.000000   \n",
       "143          4.344023               l/h               18.472844   \n",
       "\n",
       "     Throttle Position.unit track.appVersion  track.touVersion  \\\n",
       "0                       NaN              NaN               NaN   \n",
       "1                       NaN              NaN               NaN   \n",
       "2                       NaN              NaN               NaN   \n",
       "3                       NaN              NaN               NaN   \n",
       "4                       NaN              NaN               NaN   \n",
       "..                      ...              ...               ...   \n",
       "139                       %              NaN               NaN   \n",
       "140                       %              NaN               NaN   \n",
       "141                       %              NaN               NaN   \n",
       "142                       %              NaN               NaN   \n",
       "143                       %              NaN               NaN   \n",
       "\n",
       "    O2 Lambda Voltage.value  O2 Lambda Voltage.unit  \\\n",
       "0                       NaN                     NaN   \n",
       "1                       NaN                     NaN   \n",
       "2                       NaN                     NaN   \n",
       "3                       NaN                     NaN   \n",
       "4                       NaN                     NaN   \n",
       "..                      ...                     ...   \n",
       "139                     NaN                     NaN   \n",
       "140                     NaN                     NaN   \n",
       "141                     NaN                     NaN   \n",
       "142                     NaN                     NaN   \n",
       "143                     NaN                     NaN   \n",
       "\n",
       "    O2 Lambda Voltage ER.value  O2 Lambda Voltage ER.unit  \n",
       "0                          NaN                        NaN  \n",
       "1                          NaN                        NaN  \n",
       "2                          NaN                        NaN  \n",
       "3                          NaN                        NaN  \n",
       "4                          NaN                        NaN  \n",
       "..                         ...                        ...  \n",
       "139                        NaN                        NaN  \n",
       "140                        NaN                        NaN  \n",
       "141                        NaN                        NaN  \n",
       "142                        NaN                        NaN  \n",
       "143                        NaN                        NaN  \n",
       "\n",
       "[22006 rows x 54 columns]"
      ]
     },
     "execution_count": 2,
     "metadata": {},
     "output_type": "execute_result"
    }
   ],
   "source": [
    "bbox = BboxSelector([\n",
    "    6.3239, # min_x\n",
    "    51.1316, # min_y\n",
    "    6.5502, # max_x\n",
    "    51.2555  # max_y\n",
    "])\n",
    "\n",
    "# issue a query\n",
    "track_df = track_api.get_tracks(bbox=bbox, num_results=50) # requesting 50 tracks inside the bbox\n",
    "track_df"
   ]
  },
  {
   "cell_type": "code",
   "execution_count": 3,
   "metadata": {},
   "outputs": [
    {
     "data": {
      "text/plain": [
       "<matplotlib.axes._subplots.AxesSubplot at 0x17dddaf9488>"
      ]
     },
     "execution_count": 3,
     "metadata": {},
     "output_type": "execute_result"
    },
    {
     "data": {
      "image/png": "[encoded data removed]",
      "text/plain": [
       "<Figure size 576x720 with 1 Axes>"
      ]
     },
     "metadata": {
      "needs_background": "light"
     },
     "output_type": "display_data"
    }
   ],
   "source": [
    "track_df.plot(figsize=(8, 10))"
   ]
  },
  {
   "cell_type": "markdown",
   "metadata": {},
   "source": [
    "# Inspecting a single Track"
   ]
  },
  {
   "cell_type": "code",
   "execution_count": 4,
   "metadata": {},
   "outputs": [
    {
     "data": {
      "text/plain": [
       "<matplotlib.axes._subplots.AxesSubplot at 0x17ddc3b4188>"
      ]
     },
     "execution_count": 4,
     "metadata": {},
     "output_type": "execute_result"
    },
    {
     "data": {
      "image/png": "[encoded data removed]",
      "text/plain": [
       "<Figure size 432x288 with 1 Axes>"
      ]
     },
     "metadata": {
      "needs_background": "light"
     },
     "output_type": "display_data"
    }
   ],
   "source": [
    "some_track_id = track_df['track.id'].unique()[24]\n",
    "some_track = track_df[track_df['track.id'] == some_track_id]\n",
    "some_track.plot()"
   ]
  },
  {
   "cell_type": "code",
   "execution_count": 5,
   "metadata": {},
   "outputs": [
    {
     "data": {
      "text/plain": [
       "<matplotlib.axes._subplots.AxesSubplot at 0x17dd815ca08>"
      ]
     },
     "execution_count": 5,
     "metadata": {},
     "output_type": "execute_result"
    },
    {
     "data": {
      "image/png": "[encoded data removed]",
      "text/plain": [
       "<Figure size 432x288 with 1 Axes>"
      ]
     },
     "metadata": {
      "needs_background": "light"
     },
     "output_type": "display_data"
    }
   ],
   "source": [
    "ax = some_track['Speed.value'].plot()\n",
    "ax.set_title(\"Speed\")\n",
    "ax.set_ylabel(some_track['Speed.unit'][0])\n",
    "ax"
   ]
  },
  {
   "cell_type": "markdown",
   "metadata": {},
   "source": [
    "## Interactive Map\n",
    "The following map-based visualization makes use of folium. It allows to visualizate geospatial data based on an interactive leaflet map. Since the data in the GeoDataframe is modelled as a set of Point instead of a LineString, we have to manually create a polyline"
   ]
  },
  {
   "cell_type": "code",
   "execution_count": 70,
   "metadata": {},
   "outputs": [
    {
     "data": {
      "text/html": [
       "<div style=\"width:100%;\"><div style=\"position:relative;width:100%;height:0;padding-bottom:60%;\"><iframe src=\"about:blank\" style=\"position:absolute;width:100%;height:100%;left:0;top:0;border:none !important;\" data-html=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 onload=\"this.contentDocument.open();this.contentDocument.write(atob(this.getAttribute('data-html')));this.contentDocument.close();\" allowfullscreen webkitallowfullscreen mozallowfullscreen></iframe></div></div>"
      ],
      "text/plain": [
       "<folium.folium.Map at 0x27ff19b7fc8>"
      ]
     },
     "execution_count": 70,
     "metadata": {},
     "output_type": "execute_result"
    }
   ],
   "source": [
    "import folium\n",
    "\n",
    "lats = list(some_track['geometry'].apply(lambda coord: coord.y))\n",
    "lngs = list(some_track['geometry'].apply(lambda coord: coord.x))\n",
    "\n",
    "avg_lat = sum(lats) / len(lats)\n",
    "avg_lngs = sum(lngs) / len(lngs)\n",
    "\n",
    "m = folium.Map(location=[avg_lat, avg_lngs], zoom_start=13)\n",
    "folium.PolyLine([coords for coords in zip(lats, lngs)], color='blue').add_to(m)\n",
    "m"
   ]
  },
  {
   "cell_type": "markdown",
   "metadata": {},
   "source": [
    "# Example: Visualization with pydeck (deck.gl)"
   ]
  },
  {
   "cell_type": "markdown",
   "metadata": {},
   "source": [
    "The pydeck library makes use of the basemap tiles from Mapbox. In case you want to visualize the map with basemap tiles, you need to register with MapBox, and configure a specific access token. The service is free until a certain level of traffic is esceeded.\n",
    "\n",
    "You can either configure it via your terminal (i.e. `export MAPBOX_API_KEY=<mapbox-key-here>`), which pydeck will automatically read, or you can pass it as a variable to the generation of pydeck (i.e. `pdk.Deck(mapbox_key=<mapbox-key-here>, ...)`."
   ]
  },
  {
   "cell_type": "code",
   "execution_count": 7,
   "metadata": {
    "scrolled": true
   },
   "outputs": [
    {
     "data": {
      "text/html": [
       "\n",
       "        <iframe\n",
       "            width=\"900\"\n",
       "            height=\"500\"\n",
       "            src=\"./tracks_muenster.html\"\n",
       "            frameborder=\"0\"\n",
       "            allowfullscreen\n",
       "        ></iframe>\n",
       "        "
      ],
      "text/plain": [
       "<IPython.lib.display.IFrame at 0x17dd822bdc8>"
      ]
     },
     "metadata": {},
     "output_type": "display_data"
    },
    {
     "data": {
      "text/plain": [
       "'C:\\\\Users\\\\User\\\\envirocar-py\\\\examples\\\\tracks_muenster.html'"
      ]
     },
     "execution_count": 7,
     "metadata": {},
     "output_type": "execute_result"
    }
   ],
   "source": [
    "import pydeck as pdk\n",
    "\n",
    "# for pydeck the attributes have to be flat\n",
    "track_df['lat'] = track_df['geometry'].apply(lambda coord: coord.y)\n",
    "track_df['lng'] = track_df['geometry'].apply(lambda coord: coord.x)\n",
    "vis_df = pd.DataFrame(track_df)\n",
    "vis_df['speed'] = vis_df['Speed.value']\n",
    "\n",
    "# omit unit columns\n",
    "vis_df_cols = [col for col in vis_df.columns if col.lower()[len(col)-4:len(col)] != 'unit']\n",
    "vis_df = vis_df[vis_df_cols]\n",
    "\n",
    "MAPBOX_KEY = \"pk.eyJ1IjoibXByZW1hc2kiLCJhIjoiY2s5NDFueDhyMDFpODNnbjNoNzM1eWhvcCJ9.CqjZdNZJ4h8aejMWX4ZObA\"\n",
    "\n",
    "\n",
    "layer = pdk.Layer(\n",
    "    'ScatterplotLayer',\n",
    "    data=vis_df,\n",
    "    get_position='[lng, lat]',\n",
    "    auto_highlight=True,\n",
    "    get_radius=10,          # Radius is given in meters\n",
    "    get_fill_color='[speed < 20 ? 0 : (speed - 20)*8.5, speed < 50 ? 255 : 255 - (speed-50)*8.5, 0, 140]',  # Set an RGBA value for fill\n",
    "    pickable=True\n",
    ")\n",
    "\n",
    "# Set the viewport location\n",
    "view_state = pdk.ViewState(\n",
    "    longitude= 6.433333,\n",
    "    latitude=51.2,\n",
    "    zoom=10,\n",
    "    min_zoom=5,\n",
    "    max_zoom=15,\n",
    "    pitch=40.5,\n",
    "    bearing=-27.36)\n",
    "\n",
    "r = pdk.Deck(\n",
    "    width=200, \n",
    "    layers=[layer],   \n",
    "    initial_view_state=view_state, \n",
    "    mapbox_key = MAPBOX_KEY\n",
    ")\n",
    "r.to_html('tracks_muenster.html', iframe_width=900)"
   ]
  },
  {
   "cell_type": "code",
   "execution_count": null,
   "metadata": {},
   "outputs": [],
   "source": []
  }
 ],
 "metadata": {
  "kernelspec": {
   "display_name": ".env_full",
   "language": "python",
   "name": ".env_full"
  },
  "language_info": {
   "codemirror_mode": {
    "name": "ipython",
    "version": 3
   },
   "file_extension": ".py",
   "mimetype": "text/x-python",
   "name": "python",
   "nbconvert_exporter": "python",
   "pygments_lexer": "ipython3",
   "version": "3.7.7"
  }
 },
 "nbformat": 4,
 "nbformat_minor": 4
}
