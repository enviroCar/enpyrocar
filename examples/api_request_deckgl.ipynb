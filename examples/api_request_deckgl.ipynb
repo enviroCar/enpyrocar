{
 "cells": [
  {
   "cell_type": "markdown",
   "metadata": {},
   "source": [
    "# Package loading and basic configurations"
   ]
  },
  {
   "cell_type": "code",
   "execution_count": 1,
   "metadata": {},
   "outputs": [],
   "source": [
    "%load_ext autoreload\n",
    "%autoreload 2\n",
    "\n",
    "# load dependencies'\n",
    "import pandas as pd\n",
    "import geopandas as gpd\n",
    "\n",
    "from envirocar import TrackAPI, DownloadClient, BboxSelector, ECConfig\n",
    "\n",
    "# create an initial but optional config and an api client\n",
    "config = ECConfig()\n",
    "track_api = TrackAPI(api_client=DownloadClient(config=config))"
   ]
  },
  {
   "cell_type": "markdown",
   "metadata": {},
   "source": [
    "# Querying enviroCar Tracks"
   ]
  },
  {
   "cell_type": "markdown",
   "metadata": {},
   "source": [
    "The following cell queries tracks from the enviroCar API. It defines a bbox for the area of Münster (Germany) and requests 50 tracks. The result is a GeoDataFrame, which is a geo-extended Pandas dataframe from the GeoPandas library. It contains all information of the track in a flat dataframe format including a specific geometry column. "
   ]
  },
  {
   "cell_type": "code",
   "execution_count": 2,
   "metadata": {},
   "outputs": [
    {
     "data": {
      "text/html": [
       "<div>\n",
       "<style scoped>\n",
       "    .dataframe tbody tr th:only-of-type {\n",
       "        vertical-align: middle;\n",
       "    }\n",
       "\n",
       "    .dataframe tbody tr th {\n",
       "        vertical-align: top;\n",
       "    }\n",
       "\n",
       "    .dataframe thead th {\n",
       "        text-align: right;\n",
       "    }\n",
       "</style>\n",
       "<table border=\"1\" class=\"dataframe\">\n",
       "  <thead>\n",
       "    <tr style=\"text-align: right;\">\n",
       "      <th></th>\n",
       "      <th>id</th>\n",
       "      <th>time</th>\n",
       "      <th>geometry</th>\n",
       "      <th>GPS PDOP.value</th>\n",
       "      <th>GPS PDOP.unit</th>\n",
       "      <th>Speed.value</th>\n",
       "      <th>Speed.unit</th>\n",
       "      <th>GPS Altitude.value</th>\n",
       "      <th>GPS Altitude.unit</th>\n",
       "      <th>GPS Bearing.value</th>\n",
       "      <th>...</th>\n",
       "      <th>Consumption.value</th>\n",
       "      <th>Consumption.unit</th>\n",
       "      <th>track.appVersion</th>\n",
       "      <th>track.touVersion</th>\n",
       "      <th>O2 Lambda Voltage ER.value</th>\n",
       "      <th>O2 Lambda Voltage ER.unit</th>\n",
       "      <th>MAF.value</th>\n",
       "      <th>MAF.unit</th>\n",
       "      <th>O2 Lambda Voltage.value</th>\n",
       "      <th>O2 Lambda Voltage.unit</th>\n",
       "    </tr>\n",
       "  </thead>\n",
       "  <tbody>\n",
       "    <tr>\n",
       "      <th>0</th>\n",
       "      <td>5e8b930965b80c5d6b4d7cd1</td>\n",
       "      <td>2020-03-07T12:33:15</td>\n",
       "      <td>POINT (7.64069 51.95733)</td>\n",
       "      <td>1.090631</td>\n",
       "      <td>precision</td>\n",
       "      <td>28.999999</td>\n",
       "      <td>km/h</td>\n",
       "      <td>110.381939</td>\n",
       "      <td>m</td>\n",
       "      <td>124.858622</td>\n",
       "      <td>...</td>\n",
       "      <td>NaN</td>\n",
       "      <td>NaN</td>\n",
       "      <td>NaN</td>\n",
       "      <td>NaN</td>\n",
       "      <td>NaN</td>\n",
       "      <td>NaN</td>\n",
       "      <td>NaN</td>\n",
       "      <td>NaN</td>\n",
       "      <td>NaN</td>\n",
       "      <td>NaN</td>\n",
       "    </tr>\n",
       "    <tr>\n",
       "      <th>1</th>\n",
       "      <td>5e8b930965b80c5d6b4d7cd3</td>\n",
       "      <td>2020-03-07T12:33:20</td>\n",
       "      <td>POINT (7.64118 51.95712)</td>\n",
       "      <td>1.000000</td>\n",
       "      <td>precision</td>\n",
       "      <td>28.000000</td>\n",
       "      <td>km/h</td>\n",
       "      <td>108.260375</td>\n",
       "      <td>m</td>\n",
       "      <td>125.020801</td>\n",
       "      <td>...</td>\n",
       "      <td>NaN</td>\n",
       "      <td>NaN</td>\n",
       "      <td>NaN</td>\n",
       "      <td>NaN</td>\n",
       "      <td>NaN</td>\n",
       "      <td>NaN</td>\n",
       "      <td>NaN</td>\n",
       "      <td>NaN</td>\n",
       "      <td>NaN</td>\n",
       "      <td>NaN</td>\n",
       "    </tr>\n",
       "    <tr>\n",
       "      <th>2</th>\n",
       "      <td>5e8b930965b80c5d6b4d7cd4</td>\n",
       "      <td>2020-03-07T12:33:26</td>\n",
       "      <td>POINT (7.64162 51.95690)</td>\n",
       "      <td>1.257198</td>\n",
       "      <td>precision</td>\n",
       "      <td>28.000001</td>\n",
       "      <td>km/h</td>\n",
       "      <td>105.826028</td>\n",
       "      <td>m</td>\n",
       "      <td>121.203960</td>\n",
       "      <td>...</td>\n",
       "      <td>NaN</td>\n",
       "      <td>NaN</td>\n",
       "      <td>NaN</td>\n",
       "      <td>NaN</td>\n",
       "      <td>NaN</td>\n",
       "      <td>NaN</td>\n",
       "      <td>NaN</td>\n",
       "      <td>NaN</td>\n",
       "      <td>NaN</td>\n",
       "      <td>NaN</td>\n",
       "    </tr>\n",
       "    <tr>\n",
       "      <th>3</th>\n",
       "      <td>5e8b930965b80c5d6b4d7cd5</td>\n",
       "      <td>2020-03-07T12:33:31</td>\n",
       "      <td>POINT (7.64210 51.95672)</td>\n",
       "      <td>1.000000</td>\n",
       "      <td>precision</td>\n",
       "      <td>30.000000</td>\n",
       "      <td>km/h</td>\n",
       "      <td>104.395998</td>\n",
       "      <td>m</td>\n",
       "      <td>123.412759</td>\n",
       "      <td>...</td>\n",
       "      <td>NaN</td>\n",
       "      <td>NaN</td>\n",
       "      <td>NaN</td>\n",
       "      <td>NaN</td>\n",
       "      <td>NaN</td>\n",
       "      <td>NaN</td>\n",
       "      <td>NaN</td>\n",
       "      <td>NaN</td>\n",
       "      <td>NaN</td>\n",
       "      <td>NaN</td>\n",
       "    </tr>\n",
       "    <tr>\n",
       "      <th>4</th>\n",
       "      <td>5e8b930965b80c5d6b4d7cd6</td>\n",
       "      <td>2020-03-07T12:33:36</td>\n",
       "      <td>POINT (7.64264 51.95650)</td>\n",
       "      <td>1.026727</td>\n",
       "      <td>precision</td>\n",
       "      <td>31.409419</td>\n",
       "      <td>km/h</td>\n",
       "      <td>101.516865</td>\n",
       "      <td>m</td>\n",
       "      <td>122.170479</td>\n",
       "      <td>...</td>\n",
       "      <td>NaN</td>\n",
       "      <td>NaN</td>\n",
       "      <td>NaN</td>\n",
       "      <td>NaN</td>\n",
       "      <td>NaN</td>\n",
       "      <td>NaN</td>\n",
       "      <td>NaN</td>\n",
       "      <td>NaN</td>\n",
       "      <td>NaN</td>\n",
       "      <td>NaN</td>\n",
       "    </tr>\n",
       "    <tr>\n",
       "      <th>...</th>\n",
       "      <td>...</td>\n",
       "      <td>...</td>\n",
       "      <td>...</td>\n",
       "      <td>...</td>\n",
       "      <td>...</td>\n",
       "      <td>...</td>\n",
       "      <td>...</td>\n",
       "      <td>...</td>\n",
       "      <td>...</td>\n",
       "      <td>...</td>\n",
       "      <td>...</td>\n",
       "      <td>...</td>\n",
       "      <td>...</td>\n",
       "      <td>...</td>\n",
       "      <td>...</td>\n",
       "      <td>...</td>\n",
       "      <td>...</td>\n",
       "      <td>...</td>\n",
       "      <td>...</td>\n",
       "      <td>...</td>\n",
       "      <td>...</td>\n",
       "    </tr>\n",
       "    <tr>\n",
       "      <th>283</th>\n",
       "      <td>5dc986e844ea856b702e3e0b</td>\n",
       "      <td>2019-10-28T16:34:55</td>\n",
       "      <td>POINT (7.59523 51.96505)</td>\n",
       "      <td>1.700000</td>\n",
       "      <td>precision</td>\n",
       "      <td>47.999999</td>\n",
       "      <td>km/h</td>\n",
       "      <td>109.652212</td>\n",
       "      <td>m</td>\n",
       "      <td>276.419653</td>\n",
       "      <td>...</td>\n",
       "      <td>3.122268</td>\n",
       "      <td>l/h</td>\n",
       "      <td>NaN</td>\n",
       "      <td>NaN</td>\n",
       "      <td>NaN</td>\n",
       "      <td>NaN</td>\n",
       "      <td>NaN</td>\n",
       "      <td>NaN</td>\n",
       "      <td>NaN</td>\n",
       "      <td>NaN</td>\n",
       "    </tr>\n",
       "    <tr>\n",
       "      <th>284</th>\n",
       "      <td>5dc986e844ea856b702e3e0c</td>\n",
       "      <td>2019-10-28T16:35:00</td>\n",
       "      <td>POINT (7.59425 51.96512)</td>\n",
       "      <td>1.497088</td>\n",
       "      <td>precision</td>\n",
       "      <td>48.297297</td>\n",
       "      <td>km/h</td>\n",
       "      <td>110.122771</td>\n",
       "      <td>m</td>\n",
       "      <td>276.271049</td>\n",
       "      <td>...</td>\n",
       "      <td>2.853618</td>\n",
       "      <td>l/h</td>\n",
       "      <td>NaN</td>\n",
       "      <td>NaN</td>\n",
       "      <td>NaN</td>\n",
       "      <td>NaN</td>\n",
       "      <td>NaN</td>\n",
       "      <td>NaN</td>\n",
       "      <td>NaN</td>\n",
       "      <td>NaN</td>\n",
       "    </tr>\n",
       "    <tr>\n",
       "      <th>285</th>\n",
       "      <td>5dc986e844ea856b702e3e0d</td>\n",
       "      <td>2019-10-28T16:35:05</td>\n",
       "      <td>POINT (7.59327 51.96518)</td>\n",
       "      <td>1.688911</td>\n",
       "      <td>precision</td>\n",
       "      <td>49.000001</td>\n",
       "      <td>km/h</td>\n",
       "      <td>110.573987</td>\n",
       "      <td>m</td>\n",
       "      <td>275.808021</td>\n",
       "      <td>...</td>\n",
       "      <td>4.657916</td>\n",
       "      <td>l/h</td>\n",
       "      <td>NaN</td>\n",
       "      <td>NaN</td>\n",
       "      <td>NaN</td>\n",
       "      <td>NaN</td>\n",
       "      <td>NaN</td>\n",
       "      <td>NaN</td>\n",
       "      <td>NaN</td>\n",
       "      <td>NaN</td>\n",
       "    </tr>\n",
       "    <tr>\n",
       "      <th>286</th>\n",
       "      <td>5dc986e844ea856b702e3e0e</td>\n",
       "      <td>2019-10-28T16:35:10</td>\n",
       "      <td>POINT (7.59225 51.96525)</td>\n",
       "      <td>1.300000</td>\n",
       "      <td>precision</td>\n",
       "      <td>51.000000</td>\n",
       "      <td>km/h</td>\n",
       "      <td>111.140661</td>\n",
       "      <td>m</td>\n",
       "      <td>275.411387</td>\n",
       "      <td>...</td>\n",
       "      <td>3.445271</td>\n",
       "      <td>l/h</td>\n",
       "      <td>NaN</td>\n",
       "      <td>NaN</td>\n",
       "      <td>NaN</td>\n",
       "      <td>NaN</td>\n",
       "      <td>NaN</td>\n",
       "      <td>NaN</td>\n",
       "      <td>NaN</td>\n",
       "      <td>NaN</td>\n",
       "    </tr>\n",
       "    <tr>\n",
       "      <th>287</th>\n",
       "      <td>5dc986e844ea856b702e3e0f</td>\n",
       "      <td>2019-10-28T16:35:15</td>\n",
       "      <td>POINT (7.59123 51.96531)</td>\n",
       "      <td>1.423253</td>\n",
       "      <td>precision</td>\n",
       "      <td>50.000001</td>\n",
       "      <td>km/h</td>\n",
       "      <td>111.891658</td>\n",
       "      <td>m</td>\n",
       "      <td>276.124438</td>\n",
       "      <td>...</td>\n",
       "      <td>3.248333</td>\n",
       "      <td>l/h</td>\n",
       "      <td>NaN</td>\n",
       "      <td>NaN</td>\n",
       "      <td>NaN</td>\n",
       "      <td>NaN</td>\n",
       "      <td>NaN</td>\n",
       "      <td>NaN</td>\n",
       "      <td>NaN</td>\n",
       "      <td>NaN</td>\n",
       "    </tr>\n",
       "  </tbody>\n",
       "</table>\n",
       "<p>9944 rows × 54 columns</p>\n",
       "</div>"
      ],
      "text/plain": [
       "                           id                 time                  geometry  \\\n",
       "0    5e8b930965b80c5d6b4d7cd1  2020-03-07T12:33:15  POINT (7.64069 51.95733)   \n",
       "1    5e8b930965b80c5d6b4d7cd3  2020-03-07T12:33:20  POINT (7.64118 51.95712)   \n",
       "2    5e8b930965b80c5d6b4d7cd4  2020-03-07T12:33:26  POINT (7.64162 51.95690)   \n",
       "3    5e8b930965b80c5d6b4d7cd5  2020-03-07T12:33:31  POINT (7.64210 51.95672)   \n",
       "4    5e8b930965b80c5d6b4d7cd6  2020-03-07T12:33:36  POINT (7.64264 51.95650)   \n",
       "..                        ...                  ...                       ...   \n",
       "283  5dc986e844ea856b702e3e0b  2019-10-28T16:34:55  POINT (7.59523 51.96505)   \n",
       "284  5dc986e844ea856b702e3e0c  2019-10-28T16:35:00  POINT (7.59425 51.96512)   \n",
       "285  5dc986e844ea856b702e3e0d  2019-10-28T16:35:05  POINT (7.59327 51.96518)   \n",
       "286  5dc986e844ea856b702e3e0e  2019-10-28T16:35:10  POINT (7.59225 51.96525)   \n",
       "287  5dc986e844ea856b702e3e0f  2019-10-28T16:35:15  POINT (7.59123 51.96531)   \n",
       "\n",
       "     GPS PDOP.value GPS PDOP.unit  Speed.value Speed.unit  GPS Altitude.value  \\\n",
       "0          1.090631     precision    28.999999       km/h          110.381939   \n",
       "1          1.000000     precision    28.000000       km/h          108.260375   \n",
       "2          1.257198     precision    28.000001       km/h          105.826028   \n",
       "3          1.000000     precision    30.000000       km/h          104.395998   \n",
       "4          1.026727     precision    31.409419       km/h          101.516865   \n",
       "..              ...           ...          ...        ...                 ...   \n",
       "283        1.700000     precision    47.999999       km/h          109.652212   \n",
       "284        1.497088     precision    48.297297       km/h          110.122771   \n",
       "285        1.688911     precision    49.000001       km/h          110.573987   \n",
       "286        1.300000     precision    51.000000       km/h          111.140661   \n",
       "287        1.423253     precision    50.000001       km/h          111.891658   \n",
       "\n",
       "    GPS Altitude.unit  GPS Bearing.value  ... Consumption.value  \\\n",
       "0                   m         124.858622  ...               NaN   \n",
       "1                   m         125.020801  ...               NaN   \n",
       "2                   m         121.203960  ...               NaN   \n",
       "3                   m         123.412759  ...               NaN   \n",
       "4                   m         122.170479  ...               NaN   \n",
       "..                ...                ...  ...               ...   \n",
       "283                 m         276.419653  ...          3.122268   \n",
       "284                 m         276.271049  ...          2.853618   \n",
       "285                 m         275.808021  ...          4.657916   \n",
       "286                 m         275.411387  ...          3.445271   \n",
       "287                 m         276.124438  ...          3.248333   \n",
       "\n",
       "     Consumption.unit track.appVersion  track.touVersion  \\\n",
       "0                 NaN              NaN               NaN   \n",
       "1                 NaN              NaN               NaN   \n",
       "2                 NaN              NaN               NaN   \n",
       "3                 NaN              NaN               NaN   \n",
       "4                 NaN              NaN               NaN   \n",
       "..                ...              ...               ...   \n",
       "283               l/h              NaN               NaN   \n",
       "284               l/h              NaN               NaN   \n",
       "285               l/h              NaN               NaN   \n",
       "286               l/h              NaN               NaN   \n",
       "287               l/h              NaN               NaN   \n",
       "\n",
       "    O2 Lambda Voltage ER.value  O2 Lambda Voltage ER.unit MAF.value  MAF.unit  \\\n",
       "0                          NaN                        NaN       NaN       NaN   \n",
       "1                          NaN                        NaN       NaN       NaN   \n",
       "2                          NaN                        NaN       NaN       NaN   \n",
       "3                          NaN                        NaN       NaN       NaN   \n",
       "4                          NaN                        NaN       NaN       NaN   \n",
       "..                         ...                        ...       ...       ...   \n",
       "283                        NaN                        NaN       NaN       NaN   \n",
       "284                        NaN                        NaN       NaN       NaN   \n",
       "285                        NaN                        NaN       NaN       NaN   \n",
       "286                        NaN                        NaN       NaN       NaN   \n",
       "287                        NaN                        NaN       NaN       NaN   \n",
       "\n",
       "    O2 Lambda Voltage.value  O2 Lambda Voltage.unit  \n",
       "0                       NaN                     NaN  \n",
       "1                       NaN                     NaN  \n",
       "2                       NaN                     NaN  \n",
       "3                       NaN                     NaN  \n",
       "4                       NaN                     NaN  \n",
       "..                      ...                     ...  \n",
       "283                     NaN                     NaN  \n",
       "284                     NaN                     NaN  \n",
       "285                     NaN                     NaN  \n",
       "286                     NaN                     NaN  \n",
       "287                     NaN                     NaN  \n",
       "\n",
       "[9944 rows x 54 columns]"
      ]
     },
     "execution_count": 2,
     "metadata": {},
     "output_type": "execute_result"
    }
   ],
   "source": [
    "bbox = BboxSelector([\n",
    "    7.601165771484375, # min_x\n",
    "    51.94807412325402, # min_y\n",
    "    7.648200988769531, # max_x\n",
    "    51.97261482608728  # max_y\n",
    "])\n",
    "\n",
    "# issue a query\n",
    "track_df = track_api.get_tracks(bbox=bbox, num_results=50) # requesting 50 tracks inside the bbox\n",
    "track_df"
   ]
  },
  {
   "cell_type": "code",
   "execution_count": 15,
   "metadata": {},
   "outputs": [
    {
     "data": {
      "text/plain": [
       "<matplotlib.axes._subplots.AxesSubplot at 0x1616c3d3dc8>"
      ]
     },
     "execution_count": 15,
     "metadata": {},
     "output_type": "execute_result"
    },
    {
     "data": {
      "image/png": "[encoded data removed]",
      "text/plain": [
       "<Figure size 576x720 with 1 Axes>"
      ]
     },
     "metadata": {
      "needs_background": "light"
     },
     "output_type": "display_data"
    }
   ],
   "source": [
    "track_df.plot(figsize=(8, 10))"
   ]
  },
  {
   "cell_type": "markdown",
   "metadata": {},
   "source": [
    "# Inspecting a single Track"
   ]
  },
  {
   "cell_type": "code",
   "execution_count": 16,
   "metadata": {},
   "outputs": [
    {
     "data": {
      "text/plain": [
       "<matplotlib.axes._subplots.AxesSubplot at 0x1616a75ea48>"
      ]
     },
     "execution_count": 16,
     "metadata": {},
     "output_type": "execute_result"
    },
    {
     "data": {
      "image/png": "[encoded data removed]",
      "text/plain": [
       "<Figure size 432x288 with 1 Axes>"
      ]
     },
     "metadata": {
      "needs_background": "light"
     },
     "output_type": "display_data"
    }
   ],
   "source": [
    "some_track_id = track_df['track.id'].unique()[5]\n",
    "some_track = track_df[track_df['track.id'] == some_track_id]\n",
    "some_track.plot()"
   ]
  },
  {
   "cell_type": "code",
   "execution_count": 13,
   "metadata": {},
   "outputs": [
    {
     "data": {
      "text/plain": [
       "<matplotlib.axes._subplots.AxesSubplot at 0x1616a67f508>"
      ]
     },
     "execution_count": 13,
     "metadata": {},
     "output_type": "execute_result"
    },
    {
     "data": {
      "image/png": "[encoded data removed]",
      "text/plain": [
       "<Figure size 432x288 with 1 Axes>"
      ]
     },
     "metadata": {
      "needs_background": "light"
     },
     "output_type": "display_data"
    }
   ],
   "source": [
    "ax = some_track['Speed.value'].plot()\n",
    "ax.set_title(\"Speed\")\n",
    "ax.set_ylabel(some_track['Speed.unit'][0])\n",
    "ax"
   ]
  },
  {
   "cell_type": "markdown",
   "metadata": {},
   "source": [
    "## Interactive Map\n",
    "The following map-based visualization makes use of folium. It allows to visualizate geospatial data based on an interactive leaflet map. Since the data in the GeoDataframe is modelled as a set of Point instead of a LineString, we have to manually create a polyline"
   ]
  },
  {
   "cell_type": "code",
   "execution_count": 6,
   "metadata": {},
   "outputs": [
    {
     "data": {
      "text/html": [
       "<div style=\"width:100%;\"><div style=\"position:relative;width:100%;height:0;padding-bottom:60%;\"><iframe src=\"about:blank\" style=\"position:absolute;width:100%;height:100%;left:0;top:0;border:none !important;\" data-html=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 onload=\"this.contentDocument.open();this.contentDocument.write(atob(this.getAttribute('data-html')));this.contentDocument.close();\" allowfullscreen webkitallowfullscreen mozallowfullscreen></iframe></div></div>"
      ],
      "text/plain": [
       "<folium.folium.Map at 0x7f4e50f874a8>"
      ]
     },
     "execution_count": 6,
     "metadata": {},
     "output_type": "execute_result"
    }
   ],
   "source": [
    "import folium\n",
    "\n",
    "lats = list(some_track['geometry'].apply(lambda coord: coord.y))\n",
    "lngs = list(some_track['geometry'].apply(lambda coord: coord.x))\n",
    "\n",
    "avg_lat = sum(lats) / len(lats)\n",
    "avg_lngs = sum(lngs) / len(lngs)\n",
    "\n",
    "m = folium.Map(location=[avg_lat, avg_lngs], zoom_start=13)\n",
    "folium.PolyLine([coords for coords in zip(lats, lngs)], color='blue').add_to(m)\n",
    "m"
   ]
  },
  {
   "cell_type": "markdown",
   "metadata": {},
   "source": [
    "# Example: Visualization with pydeck (deck.gl)"
   ]
  },
  {
   "cell_type": "markdown",
   "metadata": {},
   "source": [
    "The pydeck library makes use of the basemap tiles from Mapbox. In case you want to visualize the map with basemap tiles, you need to register with MapBox, and configure a specific access token. The service is free until a certain level of traffic is esceeded.\n",
    "\n",
    "You can either configure it via your terminal (i.e. `export MAPBOX_API_KEY=<mapbox-key-here>`), which pydeck will automatically read, or you can pass it as a variable to the generation of pydeck (i.e. `pdk.Deck(mapbox_key=<mapbox-key-here>, ...)`."
   ]
  },
  {
   "cell_type": "code",
   "execution_count": 7,
   "metadata": {},
   "outputs": [
    {
     "data": {
      "text/html": [
       "\n",
       "        <iframe\n",
       "            width=\"900\"\n",
       "            height=\"500\"\n",
       "            src=\"./tracks_muenster.html\"\n",
       "            frameborder=\"0\"\n",
       "            allowfullscreen\n",
       "        ></iframe>\n",
       "        "
      ],
      "text/plain": [
       "<IPython.lib.display.IFrame at 0x7f4e508e19b0>"
      ]
     },
     "metadata": {},
     "output_type": "display_data"
    },
    {
     "data": {
      "text/plain": [
       "'/home/hafenkran/dev/envirocar/envirocar-py/examples/tracks_muenster.html'"
      ]
     },
     "execution_count": 7,
     "metadata": {},
     "output_type": "execute_result"
    }
   ],
   "source": [
    "import pydeck as pdk\n",
    "\n",
    "# for pydeck the attributes have to be flat\n",
    "track_df['lat'] = track_df['geometry'].apply(lambda coord: coord.y)\n",
    "track_df['lng'] = track_df['geometry'].apply(lambda coord: coord.x)\n",
    "vis_df = pd.DataFrame(track_df)\n",
    "vis_df['speed'] = vis_df['Speed.value']\n",
    "\n",
    "# omit unit columns\n",
    "vis_df_cols = [col for col in vis_df.columns if col.lower()[len(col)-4:len(col)] != 'unit']\n",
    "vis_df = vis_df[vis_df_cols]\n",
    "\n",
    "layer = pdk.Layer(\n",
    "    'ScatterplotLayer',\n",
    "    data=vis_df,\n",
    "    get_position='[lng, lat]',\n",
    "    auto_highlight=True,\n",
    "    get_radius=10,          # Radius is given in meters\n",
    "    get_fill_color='[speed < 20 ? 0 : (speed - 20)*8.5, speed < 50 ? 255 : 255 - (speed-50)*8.5, 0, 140]',  # Set an RGBA value for fill\n",
    "    pickable=True\n",
    ")\n",
    "\n",
    "# Set the viewport location\n",
    "view_state = pdk.ViewState(\n",
    "    longitude=7.5963592529296875,\n",
    "    latitude=51.96246168188569,\n",
    "    zoom=10,\n",
    "    min_zoom=5,\n",
    "    max_zoom=15,\n",
    "    pitch=40.5,\n",
    "    bearing=-27.36)\n",
    "\n",
    "r = pdk.Deck(\n",
    "    width=200, \n",
    "    layers=[layer], \n",
    "    initial_view_state=view_state #, mapbox_key=<mapbox-key-here>\n",
    ")\n",
    "r.to_html('tracks_muenster.html', iframe_width=900)"
   ]
  }
 ],
 "metadata": {
  "kernelspec": {
   "display_name": "Python 3",
   "language": "python",
   "name": "python3"
  },
  "language_info": {
   "codemirror_mode": {
    "name": "ipython",
    "version": 3
   },
   "file_extension": ".py",
   "mimetype": "text/x-python",
   "name": "python",
   "nbconvert_exporter": "python",
   "pygments_lexer": "ipython3",
   "version": "3.7.6"
  }
 },
 "nbformat": 4,
 "nbformat_minor": 4
}
