{
 "cells": [
  {
   "cell_type": "markdown",
   "metadata": {},
   "source": [
    "# Package loading and basic configurations"
   ]
  },
  {
   "cell_type": "code",
   "execution_count": 1,
   "metadata": {},
   "outputs": [],
   "source": [
    "%load_ext autoreload\n",
    "%autoreload 2\n",
    "\n",
    "# load dependencies'\n",
    "import pandas as pd\n",
    "import geopandas as gpd\n",
    "\n",
    "from envirocar import TrackAPI, DownloadClient, BboxSelector, ECConfig\n",
    "\n",
    "# create an initial but optional config and an api client\n",
    "config = ECConfig()\n",
    "track_api = TrackAPI(api_client=DownloadClient(config=config))"
   ]
  },
  {
   "cell_type": "markdown",
   "metadata": {},
   "source": [
    "# Querying enviroCar Tracks"
   ]
  },
  {
   "cell_type": "markdown",
   "metadata": {},
   "source": [
    "The following cell queries tracks from the enviroCar API. It defines a bbox for the area of Münster (Germany) and requests 50 tracks. The result is a GeoDataFrame, which is a geo-extended Pandas dataframe from the GeoPandas library. It contains all information of the track in a flat dataframe format including a specific geometry column. "
   ]
  },
  {
   "cell_type": "code",
   "execution_count": 2,
   "metadata": {},
   "outputs": [
    {
     "data": {
      "text/html": [
       "<div>\n",
       "<style scoped>\n",
       "    .dataframe tbody tr th:only-of-type {\n",
       "        vertical-align: middle;\n",
       "    }\n",
       "\n",
       "    .dataframe tbody tr th {\n",
       "        vertical-align: top;\n",
       "    }\n",
       "\n",
       "    .dataframe thead th {\n",
       "        text-align: right;\n",
       "    }\n",
       "</style>\n",
       "<table border=\"1\" class=\"dataframe\">\n",
       "  <thead>\n",
       "    <tr style=\"text-align: right;\">\n",
       "      <th></th>\n",
       "      <th>id</th>\n",
       "      <th>time</th>\n",
       "      <th>geometry</th>\n",
       "      <th>Consumption.value</th>\n",
       "      <th>Consumption.unit</th>\n",
       "      <th>Intake Pressure.value</th>\n",
       "      <th>Intake Pressure.unit</th>\n",
       "      <th>GPS Altitude.value</th>\n",
       "      <th>GPS Altitude.unit</th>\n",
       "      <th>Engine Load.value</th>\n",
       "      <th>...</th>\n",
       "      <th>GPS VDOP.value</th>\n",
       "      <th>GPS VDOP.unit</th>\n",
       "      <th>GPS HDOP.value</th>\n",
       "      <th>GPS HDOP.unit</th>\n",
       "      <th>MAF.value</th>\n",
       "      <th>MAF.unit</th>\n",
       "      <th>O2 Lambda Voltage ER.value</th>\n",
       "      <th>O2 Lambda Voltage ER.unit</th>\n",
       "      <th>O2 Lambda Voltage.value</th>\n",
       "      <th>O2 Lambda Voltage.unit</th>\n",
       "    </tr>\n",
       "  </thead>\n",
       "  <tbody>\n",
       "    <tr>\n",
       "      <th>0</th>\n",
       "      <td>5e8ea6ff65b80c5d6bd4d7d7</td>\n",
       "      <td>2020-04-08T10:26:02</td>\n",
       "      <td>POINT (7.77562 51.66562)</td>\n",
       "      <td>1.842269</td>\n",
       "      <td>l/h</td>\n",
       "      <td>40.999999</td>\n",
       "      <td>kPa</td>\n",
       "      <td>101.479695</td>\n",
       "      <td>m</td>\n",
       "      <td>35.979184</td>\n",
       "      <td>...</td>\n",
       "      <td>NaN</td>\n",
       "      <td>NaN</td>\n",
       "      <td>NaN</td>\n",
       "      <td>NaN</td>\n",
       "      <td>NaN</td>\n",
       "      <td>NaN</td>\n",
       "      <td>NaN</td>\n",
       "      <td>NaN</td>\n",
       "      <td>NaN</td>\n",
       "      <td>NaN</td>\n",
       "    </tr>\n",
       "    <tr>\n",
       "      <th>1</th>\n",
       "      <td>5e8ea6ff65b80c5d6bd4d7d9</td>\n",
       "      <td>2020-04-08T10:26:07</td>\n",
       "      <td>POINT (7.77666 51.66562)</td>\n",
       "      <td>2.808972</td>\n",
       "      <td>l/h</td>\n",
       "      <td>59.000001</td>\n",
       "      <td>kPa</td>\n",
       "      <td>103.439300</td>\n",
       "      <td>m</td>\n",
       "      <td>52.609092</td>\n",
       "      <td>...</td>\n",
       "      <td>NaN</td>\n",
       "      <td>NaN</td>\n",
       "      <td>NaN</td>\n",
       "      <td>NaN</td>\n",
       "      <td>NaN</td>\n",
       "      <td>NaN</td>\n",
       "      <td>NaN</td>\n",
       "      <td>NaN</td>\n",
       "      <td>NaN</td>\n",
       "      <td>NaN</td>\n",
       "    </tr>\n",
       "    <tr>\n",
       "      <th>2</th>\n",
       "      <td>5e8ea6ff65b80c5d6bd4d7da</td>\n",
       "      <td>2020-04-08T10:26:13</td>\n",
       "      <td>POINT (7.77775 51.66563)</td>\n",
       "      <td>1.737315</td>\n",
       "      <td>l/h</td>\n",
       "      <td>37.000001</td>\n",
       "      <td>kPa</td>\n",
       "      <td>102.729004</td>\n",
       "      <td>m</td>\n",
       "      <td>31.372550</td>\n",
       "      <td>...</td>\n",
       "      <td>NaN</td>\n",
       "      <td>NaN</td>\n",
       "      <td>NaN</td>\n",
       "      <td>NaN</td>\n",
       "      <td>NaN</td>\n",
       "      <td>NaN</td>\n",
       "      <td>NaN</td>\n",
       "      <td>NaN</td>\n",
       "      <td>NaN</td>\n",
       "      <td>NaN</td>\n",
       "    </tr>\n",
       "    <tr>\n",
       "      <th>3</th>\n",
       "      <td>5e8ea6ff65b80c5d6bd4d7db</td>\n",
       "      <td>2020-04-08T10:26:18</td>\n",
       "      <td>POINT (7.77881 51.66564)</td>\n",
       "      <td>1.708456</td>\n",
       "      <td>l/h</td>\n",
       "      <td>37.000000</td>\n",
       "      <td>kPa</td>\n",
       "      <td>102.824218</td>\n",
       "      <td>m</td>\n",
       "      <td>31.996800</td>\n",
       "      <td>...</td>\n",
       "      <td>NaN</td>\n",
       "      <td>NaN</td>\n",
       "      <td>NaN</td>\n",
       "      <td>NaN</td>\n",
       "      <td>NaN</td>\n",
       "      <td>NaN</td>\n",
       "      <td>NaN</td>\n",
       "      <td>NaN</td>\n",
       "      <td>NaN</td>\n",
       "      <td>NaN</td>\n",
       "    </tr>\n",
       "    <tr>\n",
       "      <th>4</th>\n",
       "      <td>5e8ea6ff65b80c5d6bd4d7dc</td>\n",
       "      <td>2020-04-08T10:26:23</td>\n",
       "      <td>POINT (7.77985 51.66564)</td>\n",
       "      <td>1.730519</td>\n",
       "      <td>l/h</td>\n",
       "      <td>38.000000</td>\n",
       "      <td>kPa</td>\n",
       "      <td>102.669197</td>\n",
       "      <td>m</td>\n",
       "      <td>32.080061</td>\n",
       "      <td>...</td>\n",
       "      <td>NaN</td>\n",
       "      <td>NaN</td>\n",
       "      <td>NaN</td>\n",
       "      <td>NaN</td>\n",
       "      <td>NaN</td>\n",
       "      <td>NaN</td>\n",
       "      <td>NaN</td>\n",
       "      <td>NaN</td>\n",
       "      <td>NaN</td>\n",
       "      <td>NaN</td>\n",
       "    </tr>\n",
       "    <tr>\n",
       "      <th>...</th>\n",
       "      <td>...</td>\n",
       "      <td>...</td>\n",
       "      <td>...</td>\n",
       "      <td>...</td>\n",
       "      <td>...</td>\n",
       "      <td>...</td>\n",
       "      <td>...</td>\n",
       "      <td>...</td>\n",
       "      <td>...</td>\n",
       "      <td>...</td>\n",
       "      <td>...</td>\n",
       "      <td>...</td>\n",
       "      <td>...</td>\n",
       "      <td>...</td>\n",
       "      <td>...</td>\n",
       "      <td>...</td>\n",
       "      <td>...</td>\n",
       "      <td>...</td>\n",
       "      <td>...</td>\n",
       "      <td>...</td>\n",
       "      <td>...</td>\n",
       "    </tr>\n",
       "    <tr>\n",
       "      <th>130</th>\n",
       "      <td>5e73890665b80c5d6bcd8d18</td>\n",
       "      <td>2020-03-19T10:06:10</td>\n",
       "      <td>POINT (7.83251 51.66579)</td>\n",
       "      <td>0.719324</td>\n",
       "      <td>l/h</td>\n",
       "      <td>21.000000</td>\n",
       "      <td>kPa</td>\n",
       "      <td>109.847215</td>\n",
       "      <td>m</td>\n",
       "      <td>16.209151</td>\n",
       "      <td>...</td>\n",
       "      <td>NaN</td>\n",
       "      <td>NaN</td>\n",
       "      <td>NaN</td>\n",
       "      <td>NaN</td>\n",
       "      <td>NaN</td>\n",
       "      <td>NaN</td>\n",
       "      <td>NaN</td>\n",
       "      <td>NaN</td>\n",
       "      <td>NaN</td>\n",
       "      <td>NaN</td>\n",
       "    </tr>\n",
       "    <tr>\n",
       "      <th>131</th>\n",
       "      <td>5e73890665b80c5d6bcd8d19</td>\n",
       "      <td>2020-03-19T10:06:15</td>\n",
       "      <td>POINT (7.83284 51.66555)</td>\n",
       "      <td>4.688310</td>\n",
       "      <td>l/h</td>\n",
       "      <td>87.852694</td>\n",
       "      <td>kPa</td>\n",
       "      <td>110.625243</td>\n",
       "      <td>m</td>\n",
       "      <td>85.015826</td>\n",
       "      <td>...</td>\n",
       "      <td>NaN</td>\n",
       "      <td>NaN</td>\n",
       "      <td>NaN</td>\n",
       "      <td>NaN</td>\n",
       "      <td>NaN</td>\n",
       "      <td>NaN</td>\n",
       "      <td>NaN</td>\n",
       "      <td>NaN</td>\n",
       "      <td>NaN</td>\n",
       "      <td>NaN</td>\n",
       "    </tr>\n",
       "    <tr>\n",
       "      <th>132</th>\n",
       "      <td>5e73890665b80c5d6bcd8d1a</td>\n",
       "      <td>2020-03-19T10:06:20</td>\n",
       "      <td>POINT (7.83312 51.66506)</td>\n",
       "      <td>0.996500</td>\n",
       "      <td>l/h</td>\n",
       "      <td>23.236741</td>\n",
       "      <td>kPa</td>\n",
       "      <td>111.924905</td>\n",
       "      <td>m</td>\n",
       "      <td>17.665299</td>\n",
       "      <td>...</td>\n",
       "      <td>NaN</td>\n",
       "      <td>NaN</td>\n",
       "      <td>NaN</td>\n",
       "      <td>NaN</td>\n",
       "      <td>NaN</td>\n",
       "      <td>NaN</td>\n",
       "      <td>NaN</td>\n",
       "      <td>NaN</td>\n",
       "      <td>NaN</td>\n",
       "      <td>NaN</td>\n",
       "    </tr>\n",
       "    <tr>\n",
       "      <th>133</th>\n",
       "      <td>5e73890665b80c5d6bcd8d1b</td>\n",
       "      <td>2020-03-19T10:06:25</td>\n",
       "      <td>POINT (7.83335 51.66461)</td>\n",
       "      <td>1.445306</td>\n",
       "      <td>l/h</td>\n",
       "      <td>35.000000</td>\n",
       "      <td>kPa</td>\n",
       "      <td>113.149255</td>\n",
       "      <td>m</td>\n",
       "      <td>30.196079</td>\n",
       "      <td>...</td>\n",
       "      <td>NaN</td>\n",
       "      <td>NaN</td>\n",
       "      <td>NaN</td>\n",
       "      <td>NaN</td>\n",
       "      <td>NaN</td>\n",
       "      <td>NaN</td>\n",
       "      <td>NaN</td>\n",
       "      <td>NaN</td>\n",
       "      <td>NaN</td>\n",
       "      <td>NaN</td>\n",
       "    </tr>\n",
       "    <tr>\n",
       "      <th>134</th>\n",
       "      <td>5e73890665b80c5d6bcd8d1c</td>\n",
       "      <td>2020-03-19T10:06:30</td>\n",
       "      <td>POINT (7.83359 51.66417)</td>\n",
       "      <td>1.143951</td>\n",
       "      <td>l/h</td>\n",
       "      <td>29.863034</td>\n",
       "      <td>kPa</td>\n",
       "      <td>115.077879</td>\n",
       "      <td>m</td>\n",
       "      <td>25.388095</td>\n",
       "      <td>...</td>\n",
       "      <td>NaN</td>\n",
       "      <td>NaN</td>\n",
       "      <td>NaN</td>\n",
       "      <td>NaN</td>\n",
       "      <td>NaN</td>\n",
       "      <td>NaN</td>\n",
       "      <td>NaN</td>\n",
       "      <td>NaN</td>\n",
       "      <td>NaN</td>\n",
       "      <td>NaN</td>\n",
       "    </tr>\n",
       "  </tbody>\n",
       "</table>\n",
       "<p>9133 rows × 52 columns</p>\n",
       "</div>"
      ],
      "text/plain": [
       "                           id                 time                  geometry  \\\n",
       "0    5e8ea6ff65b80c5d6bd4d7d7  2020-04-08T10:26:02  POINT (7.77562 51.66562)   \n",
       "1    5e8ea6ff65b80c5d6bd4d7d9  2020-04-08T10:26:07  POINT (7.77666 51.66562)   \n",
       "2    5e8ea6ff65b80c5d6bd4d7da  2020-04-08T10:26:13  POINT (7.77775 51.66563)   \n",
       "3    5e8ea6ff65b80c5d6bd4d7db  2020-04-08T10:26:18  POINT (7.77881 51.66564)   \n",
       "4    5e8ea6ff65b80c5d6bd4d7dc  2020-04-08T10:26:23  POINT (7.77985 51.66564)   \n",
       "..                        ...                  ...                       ...   \n",
       "130  5e73890665b80c5d6bcd8d18  2020-03-19T10:06:10  POINT (7.83251 51.66579)   \n",
       "131  5e73890665b80c5d6bcd8d19  2020-03-19T10:06:15  POINT (7.83284 51.66555)   \n",
       "132  5e73890665b80c5d6bcd8d1a  2020-03-19T10:06:20  POINT (7.83312 51.66506)   \n",
       "133  5e73890665b80c5d6bcd8d1b  2020-03-19T10:06:25  POINT (7.83335 51.66461)   \n",
       "134  5e73890665b80c5d6bcd8d1c  2020-03-19T10:06:30  POINT (7.83359 51.66417)   \n",
       "\n",
       "     Consumption.value Consumption.unit  Intake Pressure.value  \\\n",
       "0             1.842269              l/h              40.999999   \n",
       "1             2.808972              l/h              59.000001   \n",
       "2             1.737315              l/h              37.000001   \n",
       "3             1.708456              l/h              37.000000   \n",
       "4             1.730519              l/h              38.000000   \n",
       "..                 ...              ...                    ...   \n",
       "130           0.719324              l/h              21.000000   \n",
       "131           4.688310              l/h              87.852694   \n",
       "132           0.996500              l/h              23.236741   \n",
       "133           1.445306              l/h              35.000000   \n",
       "134           1.143951              l/h              29.863034   \n",
       "\n",
       "    Intake Pressure.unit  GPS Altitude.value GPS Altitude.unit  \\\n",
       "0                    kPa          101.479695                 m   \n",
       "1                    kPa          103.439300                 m   \n",
       "2                    kPa          102.729004                 m   \n",
       "3                    kPa          102.824218                 m   \n",
       "4                    kPa          102.669197                 m   \n",
       "..                   ...                 ...               ...   \n",
       "130                  kPa          109.847215                 m   \n",
       "131                  kPa          110.625243                 m   \n",
       "132                  kPa          111.924905                 m   \n",
       "133                  kPa          113.149255                 m   \n",
       "134                  kPa          115.077879                 m   \n",
       "\n",
       "     Engine Load.value  ... GPS VDOP.value  GPS VDOP.unit GPS HDOP.value  \\\n",
       "0            35.979184  ...            NaN            NaN            NaN   \n",
       "1            52.609092  ...            NaN            NaN            NaN   \n",
       "2            31.372550  ...            NaN            NaN            NaN   \n",
       "3            31.996800  ...            NaN            NaN            NaN   \n",
       "4            32.080061  ...            NaN            NaN            NaN   \n",
       "..                 ...  ...            ...            ...            ...   \n",
       "130          16.209151  ...            NaN            NaN            NaN   \n",
       "131          85.015826  ...            NaN            NaN            NaN   \n",
       "132          17.665299  ...            NaN            NaN            NaN   \n",
       "133          30.196079  ...            NaN            NaN            NaN   \n",
       "134          25.388095  ...            NaN            NaN            NaN   \n",
       "\n",
       "     GPS HDOP.unit MAF.value  MAF.unit O2 Lambda Voltage ER.value  \\\n",
       "0              NaN       NaN       NaN                        NaN   \n",
       "1              NaN       NaN       NaN                        NaN   \n",
       "2              NaN       NaN       NaN                        NaN   \n",
       "3              NaN       NaN       NaN                        NaN   \n",
       "4              NaN       NaN       NaN                        NaN   \n",
       "..             ...       ...       ...                        ...   \n",
       "130            NaN       NaN       NaN                        NaN   \n",
       "131            NaN       NaN       NaN                        NaN   \n",
       "132            NaN       NaN       NaN                        NaN   \n",
       "133            NaN       NaN       NaN                        NaN   \n",
       "134            NaN       NaN       NaN                        NaN   \n",
       "\n",
       "     O2 Lambda Voltage ER.unit O2 Lambda Voltage.value  O2 Lambda Voltage.unit  \n",
       "0                          NaN                     NaN                     NaN  \n",
       "1                          NaN                     NaN                     NaN  \n",
       "2                          NaN                     NaN                     NaN  \n",
       "3                          NaN                     NaN                     NaN  \n",
       "4                          NaN                     NaN                     NaN  \n",
       "..                         ...                     ...                     ...  \n",
       "130                        NaN                     NaN                     NaN  \n",
       "131                        NaN                     NaN                     NaN  \n",
       "132                        NaN                     NaN                     NaN  \n",
       "133                        NaN                     NaN                     NaN  \n",
       "134                        NaN                     NaN                     NaN  \n",
       "\n",
       "[9133 rows x 52 columns]"
      ]
     },
     "execution_count": 2,
     "metadata": {},
     "output_type": "execute_result"
    }
   ],
   "source": [
    "track_df = track_api.get_tracks(num_results=50) # requesting 50 tracks inside the bbox\n",
    "track_df"
   ]
  },
  {
   "cell_type": "code",
   "execution_count": 3,
   "metadata": {},
   "outputs": [
    {
     "data": {
      "text/plain": [
       "<matplotlib.axes._subplots.AxesSubplot at 0x232378ed6a0>"
      ]
     },
     "execution_count": 3,
     "metadata": {},
     "output_type": "execute_result"
    }
   ],
   "source": [
    "track_df.plot(figsize=(8, 10))"
   ]
  },
  {
   "cell_type": "markdown",
   "metadata": {},
   "source": [
    "# Inspecting a single Track"
   ]
  },
  {
   "cell_type": "code",
   "execution_count": 4,
   "metadata": {},
   "outputs": [
    {
     "data": {
      "text/plain": [
       "<matplotlib.axes._subplots.AxesSubplot at 0x23237c42320>"
      ]
     },
     "execution_count": 4,
     "metadata": {},
     "output_type": "execute_result"
    },
    {
     "data": {
      "image/png": "[encoded data removed]",
      "text/plain": [
       "<Figure size 576x720 with 1 Axes>"
      ]
     },
     "metadata": {
      "needs_background": "light"
     },
     "output_type": "display_data"
    }
   ],
   "source": [
    "some_track_id = track_df['track.id'].unique()[1]\n",
    "some_track = track_df[track_df['track.id'] == some_track_id]\n",
    "some_track.plot(figsize=(8,10))"
   ]
  },
  {
   "cell_type": "code",
   "execution_count": 5,
   "metadata": {},
   "outputs": [
    {
     "data": {
      "text/plain": [
       "<matplotlib.axes._subplots.AxesSubplot at 0x23237fcbd30>"
      ]
     },
     "execution_count": 5,
     "metadata": {},
     "output_type": "execute_result"
    },
    {
     "data": {
      "image/png": "[encoded data removed]",
      "text/plain": [
       "<Figure size 432x288 with 1 Axes>"
      ]
     },
     "metadata": {
      "needs_background": "light"
     },
     "output_type": "display_data"
    }
   ],
   "source": [
    "ax = some_track['Speed.value'].plot()\n",
    "ax.set_title(\"Speed\")\n",
    "ax.set_ylabel(some_track['Speed.unit'][0])\n",
    "ax"
   ]
  },
  {
   "cell_type": "markdown",
   "metadata": {},
   "source": [
    "## Interactive Map\n",
    "The following map-based visualization makes use of folium. It allows to visualizate geospatial data based on an interactive leaflet map. Since the data in the GeoDataframe is modelled as a set of Point instead of a LineString, we have to manually create a polyline"
   ]
  },
  {
   "cell_type": "code",
   "execution_count": 6,
   "metadata": {
    "scrolled": true
   },
   "outputs": [
    {
     "data": {
      "text/html": [
       "<div style=\"width:100%;\"><div style=\"position:relative;width:100%;height:0;padding-bottom:60%;\"><iframe src=\"about:blank\" style=\"position:absolute;width:100%;height:100%;left:0;top:0;border:none !important;\" data-html=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 onload=\"this.contentDocument.open();this.contentDocument.write(atob(this.getAttribute('data-html')));this.contentDocument.close();\" allowfullscreen webkitallowfullscreen mozallowfullscreen></iframe></div></div>"
      ],
      "text/plain": [
       "<folium.folium.Map at 0x23238005f60>"
      ]
     },
     "execution_count": 6,
     "metadata": {},
     "output_type": "execute_result"
    }
   ],
   "source": [
    "import folium\n",
    "\n",
    "lats = list(some_track['geometry'].apply(lambda coord: coord.y))\n",
    "lngs = list(some_track['geometry'].apply(lambda coord: coord.x))\n",
    "\n",
    "avg_lat = sum(lats) / len(lats)\n",
    "avg_lngs = sum(lngs) / len(lngs)\n",
    "\n",
    "m = folium.Map(location=[avg_lat, avg_lngs], zoom_start=13)\n",
    "folium.PolyLine([coords for coords in zip(lats, lngs)], color='blue').add_to(m)\n",
    "m"
   ]
  },
  {
   "cell_type": "markdown",
   "metadata": {},
   "source": [
    "# Example: Visualization with pydeck (deck.gl)"
   ]
  },
  {
   "cell_type": "markdown",
   "metadata": {},
   "source": [
    "The pydeck library makes use of the basemap tiles from Mapbox. In case you want to visualize the map with basemap tiles, you need to register with MapBox, and configure a specific access token. The service is free until a certain level of traffic is esceeded.\n",
    "\n",
    "You can either configure it via your terminal (i.e. `export MAPBOX_API_KEY=<mapbox-key-here>`), which pydeck will automatically read, or you can pass it as a variable to the generation of pydeck (i.e. `pdk.Deck(mapbox_key=<mapbox-key-here>, ...)`."
   ]
  },
  {
   "cell_type": "code",
   "execution_count": 7,
   "metadata": {},
   "outputs": [
    {
     "name": "stderr",
     "output_type": "stream",
     "text": [
      "C:\\Users\\visweshwar\\Anaconda3\\lib\\site-packages\\pydeck\\bindings\\deck.py:83: UserWarning: Mapbox API key is not set. This may impact available features of pydeck.\n",
      "  UserWarning,\n"
     ]
    },
    {
     "data": {
      "text/html": [
       "\n",
       "        <iframe\n",
       "            width=\"900\"\n",
       "            height=\"500\"\n",
       "            src=\"./tracks_muenster.html\"\n",
       "            frameborder=\"0\"\n",
       "            allowfullscreen\n",
       "        ></iframe>\n",
       "        "
      ],
      "text/plain": [
       "<IPython.lib.display.IFrame at 0x232388fda58>"
      ]
     },
     "metadata": {},
     "output_type": "display_data"
    },
    {
     "data": {
      "text/plain": [
       "'C:\\\\Users\\\\visweshwar\\\\envirocar-py-master\\\\examples\\\\tracks_muenster.html'"
      ]
     },
     "execution_count": 7,
     "metadata": {},
     "output_type": "execute_result"
    }
   ],
   "source": [
    "import pydeck as pdk\n",
    "\n",
    "# for pydeck the attributes have to be flat\n",
    "track_df['lat'] = track_df['geometry'].apply(lambda coord: coord.y)\n",
    "track_df['lng'] = track_df['geometry'].apply(lambda coord: coord.x)\n",
    "vis_df = pd.DataFrame(track_df)\n",
    "vis_df['speed'] = vis_df['Speed.value']\n",
    "\n",
    "# omit unit columns\n",
    "vis_df_cols = [col for col in vis_df.columns if col.lower()[len(col)-4:len(col)] != 'unit']\n",
    "vis_df = vis_df[vis_df_cols]\n",
    "\n",
    "layer = pdk.Layer(\n",
    "    'ScatterplotLayer',\n",
    "    data=vis_df,\n",
    "    get_position='[lng, lat]',\n",
    "    auto_highlight=True,\n",
    "    get_radius=10,          # Radius is given in meters\n",
    "    get_fill_color='[speed < 20 ? 0 : (speed - 20)*8.5, speed < 50 ? 255 : 255 - (speed-50)*8.5, 0, 140]',  # Set an RGBA value for fill\n",
    "    pickable=True\n",
    ")\n",
    "\n",
    "# Set the viewport location\n",
    "view_state = pdk.ViewState(\n",
    "    longitude=7.5963592529296875,\n",
    "    latitude=51.96246168188569,\n",
    "    zoom=10,\n",
    "    min_zoom=5,\n",
    "    max_zoom=15,\n",
    "    pitch=40.5,\n",
    "    bearing=-27.36)\n",
    "\n",
    "r = pdk.Deck(\n",
    "    width=200, \n",
    "    layers=[layer], \n",
    "    initial_view_state=view_state #, mapbox_key=<mapbox-key-here>\n",
    ")\n",
    "r.to_html('tracks_muenster.html', iframe_width=900)"
   ]
  },
  {
   "cell_type": "markdown",
   "metadata": {},
   "source": [
    "Summary statistics of the single track is created in the below code displaying the count, mean etc, using the describe() from pandas. And after that the plot for the consumption value is created."
   ]
  },
  {
   "cell_type": "code",
   "execution_count": 8,
   "metadata": {},
   "outputs": [
    {
     "name": "stdout",
     "output_type": "stream",
     "text": [
      "       Consumption.value  Intake Pressure.value  GPS Altitude.value  \\\n",
      "count          94.000000              94.000000           95.000000   \n",
      "mean            1.648623              40.244700          111.157561   \n",
      "std             1.125651              18.901748            2.207240   \n",
      "min             0.536791              16.213334          106.460989   \n",
      "25%             0.698615              27.875931          109.920659   \n",
      "50%             1.460822              32.143377          110.975356   \n",
      "75%             2.031454              45.928294          112.766453   \n",
      "max             5.563404              93.718257          115.751553   \n",
      "\n",
      "       Engine Load.value  Speed.value  Calculated MAF.value  CO2.value  \\\n",
      "count          94.000000    94.000000             94.000000  94.000000   \n",
      "mean           35.249467    30.655515              5.015248   3.874264   \n",
      "std            19.631563    14.687193              3.424323   2.645279   \n",
      "min            10.588235     0.000000              1.632964   1.261460   \n",
      "25%            22.172177    21.781492              2.125246   1.641746   \n",
      "50%            26.553278    35.623947              4.443945   3.432934   \n",
      "75%            41.895570    41.750000              6.179852   4.773916   \n",
      "max            92.267244    51.999998             16.924338  13.073999   \n",
      "\n",
      "       Intake Temperature.value    Rpm.value  GPS Accuracy.value  ...  \\\n",
      "count                 94.000000    94.000000           95.000000  ...   \n",
      "mean                  37.623651  1353.572916            4.001024  ...   \n",
      "std                    1.067805   399.683235            1.107890  ...   \n",
      "min                   35.999999   699.901982            3.790092  ...   \n",
      "25%                   36.999999  1030.458491            3.790092  ...   \n",
      "50%                   38.000000  1404.767226            3.790092  ...   \n",
      "75%                   38.000001  1686.725278            3.790093  ...   \n",
      "max                   39.000001  2108.397643           13.054099  ...   \n",
      "\n",
      "       GPS Bearing.value  track.length  sensor.engineDisplacement  \\\n",
      "count          90.000000  9.500000e+01                       95.0   \n",
      "mean          218.482838  4.020820e+00                     1086.0   \n",
      "std            42.895727  1.785781e-15                        0.0   \n",
      "min            27.000000  4.020820e+00                     1086.0   \n",
      "25%           216.737325  4.020820e+00                     1086.0   \n",
      "50%           229.351382  4.020820e+00                     1086.0   \n",
      "75%           239.604331  4.020820e+00                     1086.0   \n",
      "max           266.411411  4.020820e+00                     1086.0   \n",
      "\n",
      "       sensor.constructionYear  GPS PDOP.value  GPS VDOP.value  \\\n",
      "count                     95.0             0.0             0.0   \n",
      "mean                    2005.0             NaN             NaN   \n",
      "std                        0.0             NaN             NaN   \n",
      "min                     2005.0             NaN             NaN   \n",
      "25%                     2005.0             NaN             NaN   \n",
      "50%                     2005.0             NaN             NaN   \n",
      "75%                     2005.0             NaN             NaN   \n",
      "max                     2005.0             NaN             NaN   \n",
      "\n",
      "       GPS HDOP.value  MAF.value  O2 Lambda Voltage ER.value  \\\n",
      "count             0.0        0.0                         0.0   \n",
      "mean              NaN        NaN                         NaN   \n",
      "std               NaN        NaN                         NaN   \n",
      "min               NaN        NaN                         NaN   \n",
      "25%               NaN        NaN                         NaN   \n",
      "50%               NaN        NaN                         NaN   \n",
      "75%               NaN        NaN                         NaN   \n",
      "max               NaN        NaN                         NaN   \n",
      "\n",
      "       O2 Lambda Voltage.value  \n",
      "count                      0.0  \n",
      "mean                       NaN  \n",
      "std                        NaN  \n",
      "min                        NaN  \n",
      "25%                        NaN  \n",
      "50%                        NaN  \n",
      "75%                        NaN  \n",
      "max                        NaN  \n",
      "\n",
      "[8 rows x 22 columns]\n"
     ]
    }
   ],
   "source": [
    "print(some_track.describe())"
   ]
  },
  {
   "cell_type": "code",
   "execution_count": 9,
   "metadata": {},
   "outputs": [
    {
     "data": {
      "text/plain": [
       "Text(0, 0.5, 'l/h')"
      ]
     },
     "execution_count": 9,
     "metadata": {},
     "output_type": "execute_result"
    },
    {
     "data": {
      "image/png": "[encoded data removed]",
      "text/plain": [
       "<Figure size 360x360 with 1 Axes>"
      ]
     },
     "metadata": {
      "needs_background": "light"
     },
     "output_type": "display_data"
    }
   ],
   "source": [
    "consumption= some_track['Consumption.value'].plot(figsize=(5,5))\n",
    "consumption.set_title(\"Consumption\") \n",
    "consumption.set_ylabel('l/h')"
   ]
  },
  {
   "cell_type": "code",
   "execution_count": 10,
   "metadata": {},
   "outputs": [
    {
     "name": "stderr",
     "output_type": "stream",
     "text": [
      "C:\\Users\\visweshwar\\Anaconda3\\lib\\site-packages\\pydeck\\bindings\\deck.py:83: UserWarning: Mapbox API key is not set. This may impact available features of pydeck.\n",
      "  UserWarning,\n"
     ]
    },
    {
     "data": {
      "text/html": [
       "\n",
       "        <iframe\n",
       "            width=\"900\"\n",
       "            height=\"500\"\n",
       "            src=\"./tracks_muenster1.html\"\n",
       "            frameborder=\"0\"\n",
       "            allowfullscreen\n",
       "        ></iframe>\n",
       "        "
      ],
      "text/plain": [
       "<IPython.lib.display.IFrame at 0x23237c32898>"
      ]
     },
     "metadata": {},
     "output_type": "display_data"
    },
    {
     "data": {
      "text/plain": [
       "'C:\\\\Users\\\\visweshwar\\\\envirocar-py-master\\\\examples\\\\tracks_muenster1.html'"
      ]
     },
     "execution_count": 10,
     "metadata": {},
     "output_type": "execute_result"
    }
   ],
   "source": [
    "layer = pdk.Layer(\n",
    "    'HexagonLayer',\n",
    "    data=vis_df,\n",
    "    get_position='[lng, lat]',\n",
    "    auto_highlight=True,        \n",
    "    elevation_scale=30,\n",
    "    elevation_range=[0, 1000],\n",
    "    pickable=True,\n",
    "    extruded=True\n",
    ")\n",
    "\n",
    "r1 = pdk.Deck(\n",
    "    width=200, \n",
    "    layers=[layer], \n",
    "    initial_view_state=view_state \n",
    ")\n",
    "r1.to_html('tracks_muenster1.html', iframe_width=900)"
   ]
  }
 ],
 "metadata": {
  "kernelspec": {
   "display_name": "Python 3",
   "language": "python",
   "name": "python3"
  },
  "language_info": {
   "codemirror_mode": {
    "name": "ipython",
    "version": 3
   },
   "file_extension": ".py",
   "mimetype": "text/x-python",
   "name": "python",
   "nbconvert_exporter": "python",
   "pygments_lexer": "ipython3",
   "version": "3.7.3"
  }
 },
 "nbformat": 4,
 "nbformat_minor": 4
}
